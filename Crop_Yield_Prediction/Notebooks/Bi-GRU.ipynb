{
 "cells": [
  {
   "cell_type": "code",
   "execution_count": 4,
   "metadata": {},
   "outputs": [],
   "source": [
    "import pandas as pd\n",
    "import matplotlib.pyplot as plt\n",
    "import numpy as np\n",
    "import seaborn as sns\n",
    "import scipy.stats as ss"
   ]
  },
  {
   "cell_type": "code",
   "execution_count": 5,
   "metadata": {},
   "outputs": [
    {
     "name": "stdout",
     "output_type": "stream",
     "text": [
      "<class 'pandas.core.frame.DataFrame'>\n",
      "RangeIndex: 345407 entries, 0 to 345406\n",
      "Data columns (total 10 columns):\n",
      " #   Column            Non-Null Count   Dtype  \n",
      "---  ------            --------------   -----  \n",
      " 0   State             345407 non-null  object \n",
      " 1   District          345407 non-null  object \n",
      " 2   Crop              345375 non-null  object \n",
      " 3   Year              345407 non-null  object \n",
      " 4   Season            345406 non-null  object \n",
      " 5   Area              345374 non-null  float64\n",
      " 6   Area Units        345407 non-null  object \n",
      " 7   Production        340414 non-null  float64\n",
      " 8   Production Units  345407 non-null  object \n",
      " 9   Yield             345374 non-null  float64\n",
      "dtypes: float64(3), object(7)\n",
      "memory usage: 26.4+ MB\n"
     ]
    }
   ],
   "source": [
    "df1 = pd.read_csv(\"../Data/India Agriculture Crop Production.csv\")\n",
    "df1.info()"
   ]
  },
  {
   "cell_type": "code",
   "execution_count": 6,
   "metadata": {},
   "outputs": [
    {
     "data": {
      "text/plain": [
       "State                   36\n",
       "District               729\n",
       "Crop                    56\n",
       "Year                    24\n",
       "Season                   6\n",
       "Area                 48006\n",
       "Area Units               1\n",
       "Production           69078\n",
       "Production Units         3\n",
       "Yield               197154\n",
       "dtype: int64"
      ]
     },
     "execution_count": 6,
     "metadata": {},
     "output_type": "execute_result"
    }
   ],
   "source": [
    "df1.nunique()"
   ]
  },
  {
   "cell_type": "code",
   "execution_count": 7,
   "metadata": {},
   "outputs": [
    {
     "name": "stdout",
     "output_type": "stream",
     "text": [
      "['2001-02' '2002-03' '2003-04' '2004-05' '2005-06' '2006-07' '2007-08'\n",
      " '2008-09' '2009-10' '2010-11' '2011-12' '2012-13' '2013-14' '2014-15'\n",
      " '2015-16' '2016-17' '2017-18' '2018-19' '2019-20' '2020-21' '2000-01'\n",
      " '1997-98' '1998-99' '1999-00']\n"
     ]
    }
   ],
   "source": [
    "Year = df1[\"Year\"].unique()\n",
    "print(Year)"
   ]
  },
  {
   "cell_type": "code",
   "execution_count": 8,
   "metadata": {},
   "outputs": [
    {
     "data": {
      "text/plain": [
       "array(['Tonnes', 'Nuts', 'Bales'], dtype=object)"
      ]
     },
     "execution_count": 8,
     "metadata": {},
     "output_type": "execute_result"
    }
   ],
   "source": [
    "df1[\"Production Units\"].unique()"
   ]
  },
  {
   "cell_type": "code",
   "execution_count": 9,
   "metadata": {},
   "outputs": [],
   "source": [
    "df1.loc[df1[\"Production Units\"] == \"Bales\", \"Production\"] *= 0.24\n",
    "df1.loc[df1[\"Production Units\"] == \"Bales\", \"Production Units\"] = \"Tonnes\""
   ]
  },
  {
   "cell_type": "code",
   "execution_count": 10,
   "metadata": {},
   "outputs": [
    {
     "data": {
      "text/plain": [
       "array(['Tonnes', 'Nuts'], dtype=object)"
      ]
     },
     "execution_count": 10,
     "metadata": {},
     "output_type": "execute_result"
    }
   ],
   "source": [
    "df1[\"Production Units\"].unique()"
   ]
  },
  {
   "cell_type": "code",
   "execution_count": 11,
   "metadata": {},
   "outputs": [
    {
     "name": "stdout",
     "output_type": "stream",
     "text": [
      "['Coconut']\n"
     ]
    }
   ],
   "source": [
    "print(df1[df1[\"Production Units\"] == \"Nuts\"][\"Crop\"].unique())"
   ]
  },
  {
   "cell_type": "code",
   "execution_count": 12,
   "metadata": {},
   "outputs": [],
   "source": [
    "df1.loc[df1[\"Production Units\"] == \"Nuts\", \"Production\"] *= (1.44 / 1000)\n",
    "df1.loc[df1[\"Production Units\"] == \"Nuts\", \"Production Units\"] = \"Tonnes\""
   ]
  },
  {
   "cell_type": "code",
   "execution_count": 13,
   "metadata": {},
   "outputs": [
    {
     "data": {
      "text/plain": [
       "array(['Tonnes'], dtype=object)"
      ]
     },
     "execution_count": 13,
     "metadata": {},
     "output_type": "execute_result"
    }
   ],
   "source": [
    "df1[\"Production Units\"].unique()"
   ]
  },
  {
   "cell_type": "code",
   "execution_count": 14,
   "metadata": {},
   "outputs": [],
   "source": [
    "df1[\"Yield\"] = df1[\"Production\"] / df1[\"Area\"]"
   ]
  },
  {
   "cell_type": "code",
   "execution_count": 15,
   "metadata": {},
   "outputs": [
    {
     "data": {
      "text/plain": [
       "State            36\n",
       "District        729\n",
       "Crop             56\n",
       "Year             24\n",
       "Season            6\n",
       "Area          48006\n",
       "Production    72111\n",
       "dtype: int64"
      ]
     },
     "execution_count": 15,
     "metadata": {},
     "output_type": "execute_result"
    }
   ],
   "source": [
    "df1 = df1.drop([\"Area Units\", \"Production Units\", \"Yield\"],axis=1)\n",
    "df1.nunique()"
   ]
  },
  {
   "cell_type": "code",
   "execution_count": 16,
   "metadata": {},
   "outputs": [
    {
     "name": "stdout",
     "output_type": "stream",
     "text": [
      "<class 'pandas.core.frame.DataFrame'>\n",
      "RangeIndex: 345407 entries, 0 to 345406\n",
      "Data columns (total 7 columns):\n",
      " #   Column      Non-Null Count   Dtype  \n",
      "---  ------      --------------   -----  \n",
      " 0   State       345407 non-null  object \n",
      " 1   District    345407 non-null  object \n",
      " 2   Crop        345375 non-null  object \n",
      " 3   Year        345407 non-null  int64  \n",
      " 4   Season      345406 non-null  object \n",
      " 5   Area        345374 non-null  float64\n",
      " 6   Production  340414 non-null  float64\n",
      "dtypes: float64(2), int64(1), object(4)\n",
      "memory usage: 18.4+ MB\n"
     ]
    }
   ],
   "source": [
    "def convert_year_to_numeric(year):\n",
    "    return int(year.split('-')[0])\n",
    "df1[\"Year\"] = df1[\"Year\"].apply(convert_year_to_numeric)\n",
    "df1.info()"
   ]
  },
  {
   "cell_type": "code",
   "execution_count": 17,
   "metadata": {},
   "outputs": [
    {
     "data": {
      "text/plain": [
       "<Axes: xlabel='Year', ylabel='Production'>"
      ]
     },
     "execution_count": 17,
     "metadata": {},
     "output_type": "execute_result"
    },
    {
     "data": {
      "image/png": "[encoded data removed]",
      "text/plain": [
       "<Figure size 640x480 with 1 Axes>"
      ]
     },
     "metadata": {},
     "output_type": "display_data"
    }
   ],
   "source": [
    "sns.lineplot(data=df1, x='Year',y='Production')"
   ]
  },
  {
   "cell_type": "code",
   "execution_count": 18,
   "metadata": {},
   "outputs": [
    {
     "name": "stdout",
     "output_type": "stream",
     "text": [
      "<class 'pandas.core.frame.DataFrame'>\n",
      "RangeIndex: 345407 entries, 0 to 345406\n",
      "Data columns (total 7 columns):\n",
      " #   Column      Non-Null Count   Dtype  \n",
      "---  ------      --------------   -----  \n",
      " 0   State       345407 non-null  object \n",
      " 1   District    345407 non-null  object \n",
      " 2   Crop        345375 non-null  object \n",
      " 3   Year        345407 non-null  int64  \n",
      " 4   Season      345406 non-null  object \n",
      " 5   Area        345374 non-null  float64\n",
      " 6   Production  340414 non-null  float64\n",
      "dtypes: float64(2), int64(1), object(4)\n",
      "memory usage: 18.4+ MB\n"
     ]
    }
   ],
   "source": [
    "df = df1\n",
    "df.info()"
   ]
  },
  {
   "cell_type": "code",
   "execution_count": 19,
   "metadata": {},
   "outputs": [],
   "source": [
    "def outlier_info(df, column):\n",
    "    Q1 = df[column].quantile(0.25)\n",
    "    Q3 = df[column].quantile(0.75)\n",
    "    IQR = Q3 - Q1\n",
    "\n",
    "    lower_bound = Q1 - 1.5 * IQR\n",
    "    upper_bound = Q3 + 1.5 * IQR\n",
    "\n",
    "    outliers = df[(df[column] < lower_bound) | (df[column] > upper_bound)]\n",
    "    outlier_count = outliers.shape[0]\n",
    "    total_count = df.shape[0]\n",
    "    outlier_percentage = (outlier_count / total_count) * 100\n",
    "\n",
    "    return outlier_count, outlier_percentage\n",
    "\n",
    "def outlier_remover(df,column):\n",
    "    Q1 = df[column].quantile(0.25)\n",
    "    Q3 = df[column].quantile(0.75)\n",
    "    IQR = Q3 - Q1\n",
    "\n",
    "    lower_bound = Q1 - 1.5 * IQR\n",
    "    upper_bound = Q3 + 1.5 * IQR\n",
    "    \n",
    "    df.loc[df[column] < lower_bound, column] = lower_bound\n",
    "    df.loc[df[column] > upper_bound, column] = upper_bound\n",
    "    return df"
   ]
  },
  {
   "cell_type": "code",
   "execution_count": 20,
   "metadata": {},
   "outputs": [
    {
     "name": "stdout",
     "output_type": "stream",
     "text": [
      "(0, 0.0)\n"
     ]
    },
    {
     "data": {
      "image/png": "[encoded data removed]",
      "text/plain": [
       "<Figure size 640x480 with 1 Axes>"
      ]
     },
     "metadata": {},
     "output_type": "display_data"
    },
    {
     "name": "stdout",
     "output_type": "stream",
     "text": [
      "(57546, 16.66034562125261)\n"
     ]
    },
    {
     "data": {
      "image/png": "[encoded data removed]",
      "text/plain": [
       "<Figure size 640x480 with 1 Axes>"
      ]
     },
     "metadata": {},
     "output_type": "display_data"
    },
    {
     "name": "stdout",
     "output_type": "stream",
     "text": [
      "(59196, 17.1380429464371)\n"
     ]
    },
    {
     "data": {
      "image/png": "[encoded data removed]",
      "text/plain": [
       "<Figure size 640x480 with 1 Axes>"
      ]
     },
     "metadata": {},
     "output_type": "display_data"
    }
   ],
   "source": [
    "for i in [\"Year\",\"Area\",\"Production\"]:\n",
    "    print(outlier_info(df,i))\n",
    "    sns.kdeplot(data=df,x=i)\n",
    "    plt.show()"
   ]
  },
  {
   "cell_type": "code",
   "execution_count": 21,
   "metadata": {},
   "outputs": [
    {
     "name": "stdout",
     "output_type": "stream",
     "text": [
      "<class 'pandas.core.frame.DataFrame'>\n",
      "RangeIndex: 345407 entries, 0 to 345406\n",
      "Data columns (total 7 columns):\n",
      " #   Column      Non-Null Count   Dtype  \n",
      "---  ------      --------------   -----  \n",
      " 0   State       345407 non-null  object \n",
      " 1   District    345407 non-null  object \n",
      " 2   Crop        345375 non-null  object \n",
      " 3   Year        345407 non-null  int64  \n",
      " 4   Season      345406 non-null  object \n",
      " 5   Area        345374 non-null  float64\n",
      " 6   Production  340414 non-null  float64\n",
      "dtypes: float64(2), int64(1), object(4)\n",
      "memory usage: 18.4+ MB\n"
     ]
    }
   ],
   "source": [
    "df.info()"
   ]
  },
  {
   "cell_type": "code",
   "execution_count": null,
   "metadata": {},
   "outputs": [],
   "source": [
    "from sklearn.preprocessing import LabelEncoder, MinMaxScaler,StandardScaler\n",
    "import torch\n",
    "\n",
    "label_encoders = {}\n",
    "for column in ['State', 'District', 'Crop', 'Season']:\n",
    "    le = LabelEncoder()\n",
    "    df[column] = le.fit_transform(df[column])\n",
    "    label_encoders[column] = le\n",
    "\n",
    "# Feature scaling\n",
    "scalers = {}\n",
    "for column in ['Area', 'Production', 'Year']:\n",
    "    scaler = StandardScaler()\n",
    "    df[column] = scaler.fit_transform(df[[column]])\n",
    "    scalers[column] = scaler\n",
    "\n",
    "\n",
    "df.info()"
   ]
  },
  {
   "cell_type": "code",
   "execution_count": null,
   "metadata": {},
   "outputs": [],
   "source": [
    "df.dropna(inplace=True)"
   ]
  },
  {
   "cell_type": "code",
   "execution_count": null,
   "metadata": {},
   "outputs": [],
   "source": [
    "from sklearn.model_selection import train_test_split\n",
    "\n",
    "\n",
    "def create_sequences(data, seq_length):\n",
    "    xs, ys = [], []\n",
    "    for i in range(len(data)-seq_length):\n",
    "        x = data[i:i+seq_length]\n",
    "        y = data[i+seq_length][-1]\n",
    "        xs.append(x)\n",
    "        ys.append(y)\n",
    "    return np.array(xs), np.array(ys).reshape(-1, 1)\n",
    "\n",
    "seq_length = 10\n",
    "features = ['State', 'District', 'Crop', 'Year', 'Season', 'Area']\n",
    "target = 'Production'\n",
    "\n",
    "data = df[features + [target]].values\n",
    "X, y = create_sequences(data, seq_length)\n",
    "\n",
    "X_train, X_test, y_train, y_test = train_test_split(X, y, test_size=0.2, random_state=42)"
   ]
  },
  {
   "cell_type": "code",
   "execution_count": null,
   "metadata": {},
   "outputs": [],
   "source": [
    "sequence_length = 10\n",
    "production_values = df[target].values[:100]\n",
    "\n",
    "plt.plot(production_values, label=target)\n",
    "for i in range(0, len(production_values) - sequence_length, sequence_length):\n",
    "    plt.axvline(i + sequence_length, color='r', linestyle='--')\n",
    "\n",
    "plt.title('Sequence Creation')\n",
    "plt.xlabel('Time Steps')\n",
    "plt.ylabel('Yield')\n",
    "plt.legend()\n",
    "plt.grid()\n",
    "plt.show()"
   ]
  },
  {
   "cell_type": "code",
   "execution_count": null,
   "metadata": {},
   "outputs": [],
   "source": [
    "import torch\n",
    "from torch.utils.data import Dataset, DataLoader\n",
    "\n",
    "device = torch.device('cuda' if torch.cuda.is_available() else 'cpu')\n",
    "print(f'Using device: {device}')\n",
    "\n",
    "class TimeSeriesDataset(Dataset):\n",
    "    def __init__(self, X, y):\n",
    "        self.X = X\n",
    "        self.y = y\n",
    "\n",
    "    def __len__(self):\n",
    "        return len(self.X)\n",
    "\n",
    "    def __getitem__(self, idx):\n",
    "        return torch.tensor(self.X[idx], dtype=torch.float32).to(device), torch.tensor(self.y[idx], dtype=torch.float32).to(device)\n"
   ]
  },
  {
   "cell_type": "code",
   "execution_count": null,
   "metadata": {},
   "outputs": [],
   "source": [
    "train_dataset = TimeSeriesDataset(X_train, y_train)\n",
    "test_dataset = TimeSeriesDataset(X_test, y_test)\n",
    "train_loader = DataLoader(train_dataset, batch_size=32, shuffle=True)\n",
    "test_loader = DataLoader(test_dataset, batch_size=32, shuffle=False)"
   ]
  },
  {
   "cell_type": "code",
   "execution_count": null,
   "metadata": {},
   "outputs": [],
   "source": [
    "class BiGRUModel(nn.Module):\n",
    "    def __init__(self, input_dim, hidden_dim, output_dim, num_layers=1):\n",
    "        super(BiGRUModel, self).__init__()\n",
    "        self.hidden_size = hidden_dim\n",
    "        self.num_layers = num_layers\n",
    "        self.gru = nn.GRU(input_dim, hidden_dim, num_layers, batch_first=True, bidirectional=True)\n",
    "        self.fc = nn.Linear(hidden_dim * 2, output_dim)\n",
    "\n",
    "    def forward(self, x):\n",
    "        h0 = torch.zeros(self.num_layers * 2, x.size(0), self.hidden_size).to(x.device)\n",
    "        out, _ = self.gru(x, h0)\n",
    "        out = self.fc(out[:, -1, :])\n",
    "        return out"
   ]
  },
  {
   "cell_type": "code",
   "execution_count": null,
   "metadata": {},
   "outputs": [],
   "source": [
    "input_dim = X_train.shape[2]\n",
    "hidden_dim = 50\n",
    "output_dim = 1\n",
    "num_layers = 2\n",
    "bi_gru_model = BiGRUModel(input_dim, hidden_dim, output_dim, num_layers).to(device)\n"
   ]
  },
  {
   "cell_type": "code",
   "execution_count": null,
   "metadata": {},
   "outputs": [],
   "source": [
    "import torch.optim as optim\n",
    "from sklearn.metrics import mean_squared_error, mean_absolute_error, r2_score,explained_variance_score"
   ]
  },
  {
   "cell_type": "code",
   "execution_count": null,
   "metadata": {},
   "outputs": [],
   "source": [
    "def train_model(model, train_loader, test_loader, num_epochs=10, learning_rate=0.001):\n",
    "    criterion = nn.MSELoss()\n",
    "    optimizer = torch.optim.Adam(model.parameters(), lr=learning_rate)\n",
    "    \n",
    "    train_losses = []\n",
    "    test_losses = []\n",
    "    r2_scores = []\n",
    "    mse_errors = []\n",
    "    mae_errors = []\n",
    "    ev_scores = []\n",
    "\n",
    "    for epoch in range(num_epochs):\n",
    "        model.train()\n",
    "        train_loss = 0.0\n",
    "        for X_batch, y_batch in train_loader:\n",
    "            outputs = model(X_batch)\n",
    "            loss = criterion(outputs, y_batch)  # Adjust target shape\n",
    "            optimizer.zero_grad()\n",
    "            loss.backward()\n",
    "            optimizer.step()\n",
    "            train_loss += loss.item()\n",
    "\n",
    "        train_loss /= len(train_loader)\n",
    "        train_losses.append(train_loss)\n",
    "\n",
    "        model.eval()\n",
    "        test_loss = 0.0\n",
    "        y_test_all = []\n",
    "        test_outputs_all = []\n",
    "        with torch.no_grad():\n",
    "            for X_batch, y_batch in test_loader:\n",
    "                test_outputs = model(X_batch)\n",
    "                loss = criterion(test_outputs, y_batch)  # Adjust target shape\n",
    "                test_loss += loss.item()\n",
    "                \n",
    "                y_test_all.append(y_batch.cpu().numpy())\n",
    "                test_outputs_all.append(test_outputs.cpu().numpy())\n",
    "\n",
    "        test_loss /= len(test_loader)\n",
    "        test_losses.append(test_loss)\n",
    "\n",
    "        y_test_all = np.concatenate(y_test_all)\n",
    "        test_outputs_all = np.concatenate(test_outputs_all)\n",
    "        \n",
    "        r2 = r2_score(y_test_all, test_outputs_all)\n",
    "        mse = mean_squared_error(y_test_all, test_outputs_all)\n",
    "        mae = mean_absolute_error(y_test_all, test_outputs_all)\n",
    "        evs = explained_variance_score(y_test_all, test_outputs_all)\n",
    "        \n",
    "        r2_scores.append(r2)\n",
    "        mse_errors.append(mse)\n",
    "        mae_errors.append(mae)\n",
    "        ev_scores.append(evs)\n",
    "        \n",
    "        \n",
    "        print(f'Epoch [{epoch+1}/{num_epochs}], Train Loss: {train_loss:.4f}, Test Loss: {test_loss:.4f}, R2 Score: {r2:.4f}, MSE Score: {mse:.4f}, MAE Score: {mae:.4f}, EVS Score: {evs:.4f}')\n",
    "\n",
    "    # Plotting training and test loss\n",
    "    plt.figure(figsize=(12, 6))\n",
    "    plt.plot(range(num_epochs), train_losses, label='Train Loss')\n",
    "    plt.plot(range(num_epochs), test_losses, label='Test Loss')\n",
    "    plt.xlabel('Epochs')\n",
    "    plt.ylabel('Loss')\n",
    "    plt.title('Training and Test Loss')\n",
    "    plt.legend()\n",
    "    plt.grid()\n",
    "    plt.show()\n",
    "\n",
    "    # Plotting R-squared score\n",
    "    plt.figure(figsize=(12, 6))\n",
    "    plt.plot(range(num_epochs), r2_scores, label='R2 Score')\n",
    "    plt.xlabel('Epochs')\n",
    "    plt.ylabel('R2 Score')\n",
    "    plt.title('R2 Score over Epochs')\n",
    "    plt.legend()\n",
    "    plt.grid()\n",
    "    plt.show()\n",
    "    \n",
    "    plt.figure(figsize=(12, 6))\n",
    "    plt.plot(range(num_epochs), ev_scores, label='EV Score')\n",
    "    plt.xlabel('Epochs')\n",
    "    plt.ylabel('EV Score')\n",
    "    plt.title('EV Score over Epochs')\n",
    "    plt.legend()\n",
    "    plt.grid()\n",
    "    plt.show()\n",
    "    \n",
    "    plt.figure(figsize=(12, 6))\n",
    "    plt.plot(range(num_epochs), mse_errors, label='MSE')\n",
    "    plt.xlabel('Epochs')\n",
    "    plt.ylabel('MSE Score')\n",
    "    plt.title('MSE Score over Epochs')\n",
    "    plt.legend()\n",
    "    plt.grid()\n",
    "    plt.show()\n",
    "    \n",
    "    plt.figure(figsize=(12, 6))\n",
    "    plt.plot(range(num_epochs), mae_errors, label='MAE')\n",
    "    plt.xlabel('Epochs')\n",
    "    plt.ylabel('MAE Score')\n",
    "    plt.title('MAE Score over Epochs')\n",
    "    plt.legend()\n",
    "    plt.grid()\n",
    "    plt.show()\n",
    "    \n",
    "    plt.figure(figsize=(12, 6))\n",
    "    plt.plot(y_test_all, label='Actual')\n",
    "    plt.plot(test_outputs_all, label='Predicted')\n",
    "    plt.title(\"Predictions\")\n",
    "    plt.xlabel('Time Step')\n",
    "    plt.ylabel('Production')\n",
    "    plt.legend()\n",
    "    plt.grid()\n",
    "    plt.show()"
   ]
  },
  {
   "cell_type": "code",
   "execution_count": null,
   "metadata": {},
   "outputs": [],
   "source": [
    "train_model(bi_gru_model, train_loader, test_loader, num_epochs=15)"
   ]
  }
 ],
 "metadata": {
  "kernelspec": {
   "display_name": ".myenv",
   "language": "python",
   "name": "python3"
  },
  "language_info": {
   "codemirror_mode": {
    "name": "ipython",
    "version": 3
   },
   "file_extension": ".py",
   "mimetype": "text/x-python",
   "name": "python",
   "nbconvert_exporter": "python",
   "pygments_lexer": "ipython3",
   "version": "3.10.12"
  }
 },
 "nbformat": 4,
 "nbformat_minor": 2
}
